{
  "nbformat": 4,
  "nbformat_minor": 0,
  "metadata": {
    "colab": {
      "provenance": [],
      "gpuType": "T4",
      "include_colab_link": true
    },
    "kernelspec": {
      "name": "python3",
      "display_name": "Python 3"
    },
    "language_info": {
      "name": "python"
    },
    "accelerator": "GPU"
  },
  "cells": [
    {
      "cell_type": "markdown",
      "metadata": {
        "id": "view-in-github",
        "colab_type": "text"
      },
      "source": [
        "<a href=\"https://colab.research.google.com/github/jongeunShin95/hanghae99/blob/main/1%EC%A3%BC%EC%B0%A8_%EC%8B%AC%ED%99%94%EA%B3%BC%EC%A0%9C.ipynb\" target=\"_parent\"><img src=\"https://colab.research.google.com/assets/colab-badge.svg\" alt=\"Open In Colab\"/></a>"
      ]
    },
    {
      "cell_type": "code",
      "execution_count": 1,
      "metadata": {
        "id": "6lXVfXoDtoQh"
      },
      "outputs": [],
      "source": [
        "import torch\n",
        "import torchvision\n",
        "import torchvision.transforms as transforms"
      ]
    },
    {
      "cell_type": "code",
      "source": [
        "transform = transforms.ToTensor()\n",
        "\n",
        "trainset = torchvision.datasets.CIFAR10(\n",
        "    root='./data',\n",
        "    train=True,\n",
        "    download=True,\n",
        "    transform=transform\n",
        ")\n",
        "\n",
        "testset = torchvision.datasets.CIFAR10(\n",
        "    root='./data',\n",
        "    train=False,\n",
        "    download=True,\n",
        "    transform=transform\n",
        ")\n",
        "\n",
        "# classes = ('plane', 'car', 'bird', 'cat', 'deer', 'dog', 'frog', 'horse', 'ship', 'truck')"
      ],
      "metadata": {
        "id": "KAYlqPaRt6ti",
        "colab": {
          "base_uri": "https://localhost:8080/"
        },
        "outputId": "b64e6d78-c5b0-468b-8545-43a3816641fb"
      },
      "execution_count": 2,
      "outputs": [
        {
          "output_type": "stream",
          "name": "stderr",
          "text": [
            "100%|██████████| 170M/170M [00:05<00:00, 30.7MB/s]\n"
          ]
        }
      ]
    },
    {
      "cell_type": "code",
      "source": [
        "batch_size = 256\n",
        "\n",
        "trainloader = torch.utils.data.DataLoader(\n",
        "    trainset,\n",
        "    batch_size=batch_size,\n",
        "    shuffle=True\n",
        ")\n",
        "\n",
        "testloader = torch.utils.data.DataLoader(\n",
        "    testset,\n",
        "    batch_size=batch_size,\n",
        "    shuffle=False\n",
        ")"
      ],
      "metadata": {
        "id": "UxKu3kA2i5WH"
      },
      "execution_count": 3,
      "outputs": []
    },
    {
      "cell_type": "code",
      "source": [
        "def accuracy(model, dataloader):\n",
        "  cnt = 0\n",
        "  acc = 0\n",
        "\n",
        "  for data in dataloader:\n",
        "    inputs, labels = data\n",
        "    inputs, labels = inputs.to('cuda'), labels.to('cuda')\n",
        "\n",
        "    preds = model(inputs)\n",
        "    preds = torch.argmax(preds, dim=-1)\n",
        "\n",
        "    cnt += labels.shape[0]\n",
        "    acc += (labels == preds).sum().item()\n",
        "\n",
        "  return acc / cnt"
      ],
      "metadata": {
        "id": "McJkjTyitxyw"
      },
      "execution_count": 4,
      "outputs": []
    },
    {
      "cell_type": "code",
      "source": [
        "import matplotlib.pyplot as plt\n",
        "import numpy as np\n",
        "\n",
        "def plot_acc(train_accs, test_accs, label1='train', label2='test'):\n",
        "  x = np.arange(len(train_accs))\n",
        "\n",
        "  plt.plot(x, train_accs, label=label1)\n",
        "  plt.plot(x, test_accs, label=label2)\n",
        "  plt.legend()\n",
        "  plt.show()"
      ],
      "metadata": {
        "id": "Z4NPqY9O0BD8"
      },
      "execution_count": 5,
      "outputs": []
    },
    {
      "cell_type": "code",
      "source": [
        "from torch import nn\n",
        "\n",
        "\n",
        "class Model(nn.Module):\n",
        "  def __init__(self, input_dim, n_dim):\n",
        "    super().__init__()\n",
        "\n",
        "    self.layer1 = nn.Linear(input_dim, n_dim)\n",
        "    self.layer2 = nn.Linear(n_dim, n_dim)\n",
        "    self.layer3 = nn.Linear(n_dim, 10)\n",
        "\n",
        "    self.act = nn.LeakyReLU()\n",
        "\n",
        "  def forward(self, x):\n",
        "    x = torch.flatten(x, start_dim=1)\n",
        "    x = self.act(self.layer1(x))\n",
        "    x = self.act(self.layer2(x))\n",
        "    x = self.layer3(x)\n",
        "\n",
        "    return x\n",
        "\n",
        "\n",
        "sgdmodel = Model(32 * 32 * 3, 1024)\n",
        "adammodel = Model(32 * 32 * 3, 1024)"
      ],
      "metadata": {
        "id": "OLOA-ZGTuVVG"
      },
      "execution_count": 6,
      "outputs": []
    },
    {
      "cell_type": "code",
      "source": [
        "from torch.optim import SGD\n",
        "from torch.optim import Adam\n",
        "\n",
        "lr = 0.001\n",
        "sgdmodel = sgdmodel.to('cuda')\n",
        "adammodel = adammodel.to('cuda')\n",
        "\n",
        "sgdoptimizer = SGD(sgdmodel.parameters(), lr=lr)\n",
        "adamoptimzer = Adam(adammodel.parameters(), lr=lr)"
      ],
      "metadata": {
        "id": "ypS0TcOlvBhZ"
      },
      "execution_count": 7,
      "outputs": []
    },
    {
      "cell_type": "code",
      "source": [
        "n_epochs = 50\n",
        "\n",
        "sgdtrain_accs = []\n",
        "adamtrain_accs = []\n",
        "\n",
        "# SGD opt\n",
        "for epoch in range(n_epochs):\n",
        "  total_loss = 0.\n",
        "  for data in trainloader:\n",
        "    sgdmodel.zero_grad()\n",
        "    inputs, labels = data\n",
        "    inputs, labels = inputs.to('cuda'), labels.to('cuda')\n",
        "\n",
        "    preds = sgdmodel(inputs)\n",
        "    loss = nn.CrossEntropyLoss()(preds, labels)\n",
        "    loss.backward()\n",
        "    sgdoptimizer.step()\n",
        "\n",
        "    total_loss += loss.item()\n",
        "  sgdtrain_accs.append(accuracy(sgdmodel, trainloader))\n",
        "\n",
        "  print(f\"Epoch {epoch:3d} | Loss: {total_loss}\")\n",
        "\n",
        "\n",
        "# Adam opt\n",
        "for epoch in range(n_epochs):\n",
        "  total_loss = 0.\n",
        "  for data in trainloader:\n",
        "    adammodel.zero_grad()\n",
        "    inputs, labels = data\n",
        "    inputs, labels = inputs.to('cuda'), labels.to('cuda')\n",
        "\n",
        "    preds = adammodel(inputs)\n",
        "    loss = nn.CrossEntropyLoss()(preds, labels)\n",
        "    loss.backward()\n",
        "    adamoptimzer.step()\n",
        "\n",
        "    total_loss += loss.item()\n",
        "  adamtrain_accs.append(accuracy(adammodel, trainloader))\n",
        "\n",
        "  print(f\"Epoch {epoch:3d} | Loss: {total_loss}\")"
      ],
      "metadata": {
        "colab": {
          "base_uri": "https://localhost:8080/"
        },
        "id": "TryX1hewvNiB",
        "outputId": "f7825a9e-9705-4c11-9fc7-6ff627519089"
      },
      "execution_count": 8,
      "outputs": [
        {
          "output_type": "stream",
          "name": "stdout",
          "text": [
            "Epoch   0 | Loss: 450.23802947998047\n",
            "Epoch   1 | Loss: 448.0738298892975\n",
            "Epoch   2 | Loss: 446.2895185947418\n",
            "Epoch   3 | Loss: 444.5851249694824\n",
            "Epoch   4 | Loss: 442.83265495300293\n",
            "Epoch   5 | Loss: 440.9411196708679\n",
            "Epoch   6 | Loss: 438.9311366081238\n",
            "Epoch   7 | Loss: 436.717725276947\n",
            "Epoch   8 | Loss: 434.2846202850342\n",
            "Epoch   9 | Loss: 431.68019437789917\n",
            "Epoch  10 | Loss: 428.9258267879486\n",
            "Epoch  11 | Loss: 426.06865215301514\n",
            "Epoch  12 | Loss: 423.1888196468353\n",
            "Epoch  13 | Loss: 420.3323197364807\n",
            "Epoch  14 | Loss: 417.5180208683014\n",
            "Epoch  15 | Loss: 414.78496837615967\n",
            "Epoch  16 | Loss: 412.1625397205353\n",
            "Epoch  17 | Loss: 409.76158833503723\n",
            "Epoch  18 | Loss: 407.3983118534088\n",
            "Epoch  19 | Loss: 405.3046429157257\n",
            "Epoch  20 | Loss: 403.21729588508606\n",
            "Epoch  21 | Loss: 401.3147072792053\n",
            "Epoch  22 | Loss: 399.4864743947983\n",
            "Epoch  23 | Loss: 397.72694873809814\n",
            "Epoch  24 | Loss: 396.06285417079926\n",
            "Epoch  25 | Loss: 394.4294857978821\n",
            "Epoch  26 | Loss: 392.93456745147705\n",
            "Epoch  27 | Loss: 391.4814257621765\n",
            "Epoch  28 | Loss: 389.9961072206497\n",
            "Epoch  29 | Loss: 388.7340189218521\n",
            "Epoch  30 | Loss: 387.35525393486023\n",
            "Epoch  31 | Loss: 386.10336434841156\n",
            "Epoch  32 | Loss: 385.0110969543457\n",
            "Epoch  33 | Loss: 383.8675856590271\n",
            "Epoch  34 | Loss: 382.71009492874146\n",
            "Epoch  35 | Loss: 381.722004532814\n",
            "Epoch  36 | Loss: 380.8239302635193\n",
            "Epoch  37 | Loss: 379.7681931257248\n",
            "Epoch  38 | Loss: 378.722624540329\n",
            "Epoch  39 | Loss: 377.91944539546967\n",
            "Epoch  40 | Loss: 377.1459800004959\n",
            "Epoch  41 | Loss: 376.2337781190872\n",
            "Epoch  42 | Loss: 375.37273049354553\n",
            "Epoch  43 | Loss: 374.68675565719604\n",
            "Epoch  44 | Loss: 373.9968647956848\n",
            "Epoch  45 | Loss: 373.19932436943054\n",
            "Epoch  46 | Loss: 372.5659292936325\n",
            "Epoch  47 | Loss: 371.8204481601715\n",
            "Epoch  48 | Loss: 371.2596229314804\n",
            "Epoch  49 | Loss: 370.69249284267426\n",
            "Epoch   0 | Loss: 365.52032244205475\n",
            "Epoch   1 | Loss: 322.86371397972107\n",
            "Epoch   2 | Loss: 305.8375337123871\n",
            "Epoch   3 | Loss: 293.618901014328\n",
            "Epoch   4 | Loss: 283.49241185188293\n",
            "Epoch   5 | Loss: 277.22294187545776\n",
            "Epoch   6 | Loss: 268.73065280914307\n",
            "Epoch   7 | Loss: 260.6002097129822\n",
            "Epoch   8 | Loss: 256.11259722709656\n",
            "Epoch   9 | Loss: 248.76847124099731\n",
            "Epoch  10 | Loss: 245.46594214439392\n",
            "Epoch  11 | Loss: 239.04666447639465\n",
            "Epoch  12 | Loss: 232.13765460252762\n",
            "Epoch  13 | Loss: 226.02532362937927\n",
            "Epoch  14 | Loss: 222.1132351756096\n",
            "Epoch  15 | Loss: 215.27159494161606\n",
            "Epoch  16 | Loss: 211.8727742433548\n",
            "Epoch  17 | Loss: 205.80369365215302\n",
            "Epoch  18 | Loss: 200.2737067937851\n",
            "Epoch  19 | Loss: 194.4198345541954\n",
            "Epoch  20 | Loss: 189.06208461523056\n",
            "Epoch  21 | Loss: 183.29571372270584\n",
            "Epoch  22 | Loss: 176.69377797842026\n",
            "Epoch  23 | Loss: 171.5458021759987\n",
            "Epoch  24 | Loss: 166.33803576231003\n",
            "Epoch  25 | Loss: 161.0881833434105\n",
            "Epoch  26 | Loss: 154.85381507873535\n",
            "Epoch  27 | Loss: 148.9743137359619\n",
            "Epoch  28 | Loss: 144.13937205076218\n",
            "Epoch  29 | Loss: 139.59069919586182\n",
            "Epoch  30 | Loss: 134.8596066236496\n",
            "Epoch  31 | Loss: 127.27060294151306\n",
            "Epoch  32 | Loss: 122.31649431586266\n",
            "Epoch  33 | Loss: 119.22663936018944\n",
            "Epoch  34 | Loss: 114.17095828056335\n",
            "Epoch  35 | Loss: 109.62653324007988\n",
            "Epoch  36 | Loss: 105.47397956252098\n",
            "Epoch  37 | Loss: 99.36175507307053\n",
            "Epoch  38 | Loss: 96.84017100930214\n",
            "Epoch  39 | Loss: 91.64652532339096\n",
            "Epoch  40 | Loss: 88.55744192004204\n",
            "Epoch  41 | Loss: 85.48353171348572\n",
            "Epoch  42 | Loss: 83.51283705234528\n",
            "Epoch  43 | Loss: 76.97946625947952\n",
            "Epoch  44 | Loss: 75.76047670841217\n",
            "Epoch  45 | Loss: 71.66083881258965\n",
            "Epoch  46 | Loss: 71.33596374094486\n",
            "Epoch  47 | Loss: 65.3342615365982\n",
            "Epoch  48 | Loss: 64.3879804611206\n",
            "Epoch  49 | Loss: 64.29299601912498\n"
          ]
        }
      ]
    },
    {
      "cell_type": "code",
      "source": [
        "plot_acc(sgdtrain_accs, adamtrain_accs, 'sgd', 'adam')"
      ],
      "metadata": {
        "colab": {
          "base_uri": "https://localhost:8080/",
          "height": 430
        },
        "id": "VLdE9TxldXtE",
        "outputId": "314215c3-140e-4a64-bba4-4815d59e6deb"
      },
      "execution_count": 9,
      "outputs": [
        {
          "output_type": "display_data",
          "data": {
            "text/plain": [
              "<Figure size 640x480 with 1 Axes>"
            ],
            "image/png": "[encoded data removed]"
          },
          "metadata": {}
        }
      ]
    },
    {
      "cell_type": "code",
      "source": [
        "class LeakyReLUModel(nn.Module):\n",
        "  def __init__(self, input_dim, n_dim):\n",
        "    super().__init__()\n",
        "\n",
        "    self.layer1 = nn.Linear(input_dim, n_dim)\n",
        "    self.layer2 = nn.Linear(n_dim, n_dim)\n",
        "    self.layer3 = nn.Linear(n_dim, 10)\n",
        "\n",
        "    self.act = nn.LeakyReLU()\n",
        "\n",
        "  def forward(self, x):\n",
        "    x = torch.flatten(x, start_dim=1)\n",
        "    x = self.act(self.layer1(x))\n",
        "    x = self.act(self.layer2(x))\n",
        "    x = self.layer3(x)\n",
        "\n",
        "    return x\n",
        "\n",
        "class SigmoidUModel(nn.Module):\n",
        "  def __init__(self, input_dim, n_dim):\n",
        "    super().__init__()\n",
        "\n",
        "    self.layer1 = nn.Linear(input_dim, n_dim)\n",
        "    self.layer2 = nn.Linear(n_dim, n_dim)\n",
        "    self.layer3 = nn.Linear(n_dim, 10)\n",
        "\n",
        "    self.act = nn.Sigmoid()\n",
        "\n",
        "  def forward(self, x):\n",
        "    x = torch.flatten(x, start_dim=1)\n",
        "    x = self.act(self.layer1(x))\n",
        "    x = self.act(self.layer2(x))\n",
        "    x = self.layer3(x)\n",
        "\n",
        "    return x\n",
        "\n",
        "\n",
        "\n",
        "\n",
        "leakyrelumodel = LeakyReLUModel(32 * 32 * 3, 1024)\n",
        "sigmoidModel = SigmoidUModel(32 * 32 * 3, 1024)"
      ],
      "metadata": {
        "id": "d6M4SpWQoML9"
      },
      "execution_count": 10,
      "outputs": []
    },
    {
      "cell_type": "code",
      "source": [
        "leakyrelumodel = leakyrelumodel.to('cuda')\n",
        "sigmoidModel = sigmoidModel.to('cuda')\n",
        "\n",
        "leakyreluoptimizer = Adam(leakyrelumodel.parameters(), lr=lr)\n",
        "sigmoidoptimzer = Adam(sigmoidModel.parameters(), lr=lr)"
      ],
      "metadata": {
        "id": "YcVW48k5f23q"
      },
      "execution_count": 11,
      "outputs": []
    },
    {
      "cell_type": "code",
      "source": [
        "n_epochs = 50\n",
        "\n",
        "leakyReLUtrain_accs = []\n",
        "sigmoidtrain_accs = []\n",
        "\n",
        "# LeakyReLU\n",
        "for epoch in range(n_epochs):\n",
        "  total_loss = 0.\n",
        "  for data in trainloader:\n",
        "    leakyrelumodel.zero_grad()\n",
        "    inputs, labels = data\n",
        "    inputs, labels = inputs.to('cuda'), labels.to('cuda')\n",
        "\n",
        "    preds = leakyrelumodel(inputs)\n",
        "    loss = nn.CrossEntropyLoss()(preds, labels)\n",
        "    loss.backward()\n",
        "    leakyreluoptimizer.step()\n",
        "\n",
        "    total_loss += loss.item()\n",
        "  leakyReLUtrain_accs.append(accuracy(leakyrelumodel, trainloader))\n",
        "\n",
        "  print(f\"Epoch {epoch:3d} | Loss: {total_loss}\")\n",
        "\n",
        "\n",
        "# Sigmoid\n",
        "for epoch in range(n_epochs):\n",
        "  total_loss = 0.\n",
        "  for data in trainloader:\n",
        "    sigmoidModel.zero_grad()\n",
        "    inputs, labels = data\n",
        "    inputs, labels = inputs.to('cuda'), labels.to('cuda')\n",
        "\n",
        "    preds = sigmoidModel(inputs)\n",
        "    loss = nn.CrossEntropyLoss()(preds, labels)\n",
        "    loss.backward()\n",
        "    sigmoidoptimzer.step()\n",
        "\n",
        "    total_loss += loss.item()\n",
        "  sigmoidtrain_accs.append(accuracy(sigmoidModel, trainloader))\n",
        "\n",
        "  print(f\"Epoch {epoch:3d} | Loss: {total_loss}\")"
      ],
      "metadata": {
        "colab": {
          "base_uri": "https://localhost:8080/"
        },
        "id": "XruRiwLSgKfY",
        "outputId": "02d624cb-eee0-4c14-c44d-2bc79cbaf0ee"
      },
      "execution_count": 12,
      "outputs": [
        {
          "output_type": "stream",
          "name": "stdout",
          "text": [
            "Epoch   0 | Loss: 368.3322523832321\n",
            "Epoch   1 | Loss: 324.118834733963\n",
            "Epoch   2 | Loss: 306.3224687576294\n",
            "Epoch   3 | Loss: 295.41724371910095\n",
            "Epoch   4 | Loss: 287.3015789985657\n",
            "Epoch   5 | Loss: 277.7777909040451\n",
            "Epoch   6 | Loss: 272.12695944309235\n",
            "Epoch   7 | Loss: 266.1902594566345\n",
            "Epoch   8 | Loss: 259.7087483406067\n",
            "Epoch   9 | Loss: 254.80710005760193\n",
            "Epoch  10 | Loss: 249.04181838035583\n",
            "Epoch  11 | Loss: 244.74423396587372\n",
            "Epoch  12 | Loss: 237.46529626846313\n",
            "Epoch  13 | Loss: 232.20186960697174\n",
            "Epoch  14 | Loss: 226.62598150968552\n",
            "Epoch  15 | Loss: 222.7493997812271\n",
            "Epoch  16 | Loss: 217.30629736185074\n",
            "Epoch  17 | Loss: 211.96906501054764\n",
            "Epoch  18 | Loss: 208.8720983862877\n",
            "Epoch  19 | Loss: 202.37105357646942\n",
            "Epoch  20 | Loss: 197.5982909798622\n",
            "Epoch  21 | Loss: 192.70792734622955\n",
            "Epoch  22 | Loss: 189.26892393827438\n",
            "Epoch  23 | Loss: 182.83078479766846\n",
            "Epoch  24 | Loss: 176.75171613693237\n",
            "Epoch  25 | Loss: 172.85811614990234\n",
            "Epoch  26 | Loss: 166.63768863677979\n",
            "Epoch  27 | Loss: 162.81021082401276\n",
            "Epoch  28 | Loss: 157.24360531568527\n",
            "Epoch  29 | Loss: 152.55998039245605\n",
            "Epoch  30 | Loss: 147.24638789892197\n",
            "Epoch  31 | Loss: 140.3402578830719\n",
            "Epoch  32 | Loss: 139.35371512174606\n",
            "Epoch  33 | Loss: 133.26019793748856\n",
            "Epoch  34 | Loss: 128.4315430521965\n",
            "Epoch  35 | Loss: 122.28917774558067\n",
            "Epoch  36 | Loss: 121.26857164502144\n",
            "Epoch  37 | Loss: 113.76587238907814\n",
            "Epoch  38 | Loss: 111.34211346507072\n",
            "Epoch  39 | Loss: 105.67737138271332\n",
            "Epoch  40 | Loss: 101.12646779417992\n",
            "Epoch  41 | Loss: 95.79320695996284\n",
            "Epoch  42 | Loss: 95.52202770113945\n",
            "Epoch  43 | Loss: 90.87734186649323\n",
            "Epoch  44 | Loss: 86.93145644664764\n",
            "Epoch  45 | Loss: 82.61302474141121\n",
            "Epoch  46 | Loss: 81.27933451533318\n",
            "Epoch  47 | Loss: 78.63733485341072\n",
            "Epoch  48 | Loss: 72.90580658614635\n",
            "Epoch  49 | Loss: 70.65896412730217\n",
            "Epoch   0 | Loss: 382.5908327102661\n",
            "Epoch   1 | Loss: 335.97251665592194\n",
            "Epoch   2 | Loss: 318.4417281150818\n",
            "Epoch   3 | Loss: 306.6188851594925\n",
            "Epoch   4 | Loss: 297.1829128265381\n",
            "Epoch   5 | Loss: 288.96165359020233\n",
            "Epoch   6 | Loss: 284.20166993141174\n",
            "Epoch   7 | Loss: 280.4768736362457\n",
            "Epoch   8 | Loss: 272.9869850873947\n",
            "Epoch   9 | Loss: 268.89056944847107\n",
            "Epoch  10 | Loss: 263.66191577911377\n",
            "Epoch  11 | Loss: 260.0723274946213\n",
            "Epoch  12 | Loss: 255.45904660224915\n",
            "Epoch  13 | Loss: 251.84950196743011\n",
            "Epoch  14 | Loss: 247.53121960163116\n",
            "Epoch  15 | Loss: 243.95794558525085\n",
            "Epoch  16 | Loss: 240.2598158121109\n",
            "Epoch  17 | Loss: 236.9548600912094\n",
            "Epoch  18 | Loss: 232.7516204714775\n",
            "Epoch  19 | Loss: 228.98548769950867\n",
            "Epoch  20 | Loss: 225.29789596796036\n",
            "Epoch  21 | Loss: 220.73115074634552\n",
            "Epoch  22 | Loss: 219.46063023805618\n",
            "Epoch  23 | Loss: 216.60835927724838\n",
            "Epoch  24 | Loss: 211.0946825146675\n",
            "Epoch  25 | Loss: 209.33303248882294\n",
            "Epoch  26 | Loss: 205.4667867422104\n",
            "Epoch  27 | Loss: 202.78983759880066\n",
            "Epoch  28 | Loss: 199.09823495149612\n",
            "Epoch  29 | Loss: 197.04105591773987\n",
            "Epoch  30 | Loss: 193.39352518320084\n",
            "Epoch  31 | Loss: 189.6396365761757\n",
            "Epoch  32 | Loss: 187.68066680431366\n",
            "Epoch  33 | Loss: 184.29187965393066\n",
            "Epoch  34 | Loss: 179.91155868768692\n",
            "Epoch  35 | Loss: 179.6204176545143\n",
            "Epoch  36 | Loss: 172.8316621184349\n",
            "Epoch  37 | Loss: 169.68564385175705\n",
            "Epoch  38 | Loss: 168.9121246933937\n",
            "Epoch  39 | Loss: 164.88249522447586\n",
            "Epoch  40 | Loss: 162.10748332738876\n",
            "Epoch  41 | Loss: 159.82658195495605\n",
            "Epoch  42 | Loss: 156.00393331050873\n",
            "Epoch  43 | Loss: 154.25079554319382\n",
            "Epoch  44 | Loss: 148.89789348840714\n",
            "Epoch  45 | Loss: 151.1518578529358\n",
            "Epoch  46 | Loss: 146.7449876666069\n",
            "Epoch  47 | Loss: 141.8919539451599\n",
            "Epoch  48 | Loss: 141.0515255331993\n",
            "Epoch  49 | Loss: 139.9684760570526\n"
          ]
        }
      ]
    },
    {
      "cell_type": "code",
      "source": [
        "plot_acc(leakyReLUtrain_accs, sigmoidtrain_accs, 'leakyRelu', 'sigmoid')"
      ],
      "metadata": {
        "colab": {
          "base_uri": "https://localhost:8080/",
          "height": 430
        },
        "id": "4sGvAvQlg_UI",
        "outputId": "5bcbf9e5-88d6-4dfd-ba4b-64a96bf18e1e"
      },
      "execution_count": 13,
      "outputs": [
        {
          "output_type": "display_data",
          "data": {
            "text/plain": [
              "<Figure size 640x480 with 1 Axes>"
            ],
            "image/png": "[encoded data removed]"
          },
          "metadata": {}
        }
      ]
    },
    {
      "cell_type": "code",
      "source": [
        "class DropoutModel(nn.Module):\n",
        "  def __init__(self, input_dim, n_dim):\n",
        "    super().__init__()\n",
        "\n",
        "    self.layer1 = nn.Linear(input_dim, n_dim)\n",
        "    self.layer2 = nn.Linear(n_dim, n_dim)\n",
        "    self.layer3 = nn.Linear(n_dim, 10)\n",
        "\n",
        "    self.act = nn.LeakyReLU()\n",
        "    self.dropout = nn.Dropout(p=0.1)\n",
        "\n",
        "  def forward(self, x):\n",
        "    x = torch.flatten(x, start_dim=1)\n",
        "    x = self.dropout(self.act(self.layer1(x)))\n",
        "    x = self.dropout(self.act(self.layer2(x)))\n",
        "    x = self.dropout(self.layer3(x))\n",
        "\n",
        "    return x\n",
        "\n",
        "dropoutModel = DropoutModel(32 * 32 * 3, 1024)"
      ],
      "metadata": {
        "id": "6YaVGnFr0zm2"
      },
      "execution_count": 14,
      "outputs": []
    },
    {
      "cell_type": "code",
      "source": [
        "dropoutModel = dropoutModel.to('cuda')\n",
        "\n",
        "dropoutoptimizer = Adam(dropoutModel.parameters(), lr=lr)"
      ],
      "metadata": {
        "id": "UVqivSEE1FGE"
      },
      "execution_count": 15,
      "outputs": []
    },
    {
      "cell_type": "code",
      "source": [
        "droupouttrain_accs = []\n",
        "droupouttest_accs = []\n",
        "\n",
        "for epoch in range(n_epochs):\n",
        "  total_loss = 0.\n",
        "  for data in trainloader:\n",
        "    dropoutModel.zero_grad()\n",
        "    inputs, labels = data\n",
        "    inputs, labels = inputs.to('cuda'), labels.to('cuda')\n",
        "\n",
        "    preds = dropoutModel(inputs)\n",
        "    loss = nn.CrossEntropyLoss()(preds, labels)\n",
        "    loss.backward()\n",
        "    dropoutoptimizer.step()\n",
        "\n",
        "    total_loss += loss.item()\n",
        "\n",
        "  with torch.no_grad():\n",
        "    dropoutModel.eval()\n",
        "    droupouttrain_accs.append(accuracy(dropoutModel, trainloader))\n",
        "    droupouttest_accs.append(accuracy(dropoutModel, testloader))\n",
        "\n",
        "  print(f\"Epoch {epoch:3d} | Loss: {total_loss}\")\n",
        "\n",
        "plot_acc(droupouttrain_accs, droupouttest_accs)"
      ],
      "metadata": {
        "id": "RzgRwiLx2CRW",
        "colab": {
          "base_uri": "https://localhost:8080/",
          "height": 1000
        },
        "outputId": "90df365a-b50b-490a-9531-81155352bf07"
      },
      "execution_count": 16,
      "outputs": [
        {
          "output_type": "stream",
          "name": "stdout",
          "text": [
            "Epoch   0 | Loss: 379.6277484893799\n",
            "Epoch   1 | Loss: 328.3848942518234\n",
            "Epoch   2 | Loss: 308.7738163471222\n",
            "Epoch   3 | Loss: 295.8542892932892\n",
            "Epoch   4 | Loss: 285.8283277750015\n",
            "Epoch   5 | Loss: 278.997150182724\n",
            "Epoch   6 | Loss: 271.1956344842911\n",
            "Epoch   7 | Loss: 264.05309081077576\n",
            "Epoch   8 | Loss: 258.8635905981064\n",
            "Epoch   9 | Loss: 253.05924832820892\n",
            "Epoch  10 | Loss: 248.8149962425232\n",
            "Epoch  11 | Loss: 241.5930219888687\n",
            "Epoch  12 | Loss: 237.02715837955475\n",
            "Epoch  13 | Loss: 232.0209692120552\n",
            "Epoch  14 | Loss: 225.74402844905853\n",
            "Epoch  15 | Loss: 222.29057228565216\n",
            "Epoch  16 | Loss: 215.60123389959335\n",
            "Epoch  17 | Loss: 212.5017949938774\n",
            "Epoch  18 | Loss: 205.4201402068138\n",
            "Epoch  19 | Loss: 200.54042845964432\n",
            "Epoch  20 | Loss: 196.7425662279129\n",
            "Epoch  21 | Loss: 191.79728543758392\n",
            "Epoch  22 | Loss: 184.6527161002159\n",
            "Epoch  23 | Loss: 181.36999827623367\n",
            "Epoch  24 | Loss: 172.86242455244064\n",
            "Epoch  25 | Loss: 170.16119092702866\n",
            "Epoch  26 | Loss: 164.16819047927856\n",
            "Epoch  27 | Loss: 160.0568618774414\n",
            "Epoch  28 | Loss: 153.48254138231277\n",
            "Epoch  29 | Loss: 150.94923901557922\n",
            "Epoch  30 | Loss: 144.15184658765793\n",
            "Epoch  31 | Loss: 139.3723776936531\n",
            "Epoch  32 | Loss: 134.97992026805878\n",
            "Epoch  33 | Loss: 129.49935454130173\n",
            "Epoch  34 | Loss: 124.47760447859764\n",
            "Epoch  35 | Loss: 118.80660647153854\n",
            "Epoch  36 | Loss: 115.69939151406288\n",
            "Epoch  37 | Loss: 109.69821494817734\n",
            "Epoch  38 | Loss: 105.45756450295448\n",
            "Epoch  39 | Loss: 102.67564198374748\n",
            "Epoch  40 | Loss: 97.94531616568565\n",
            "Epoch  41 | Loss: 96.77149176597595\n",
            "Epoch  42 | Loss: 93.78210660815239\n",
            "Epoch  43 | Loss: 88.27473548054695\n",
            "Epoch  44 | Loss: 83.60486495494843\n",
            "Epoch  45 | Loss: 82.37926596403122\n",
            "Epoch  46 | Loss: 76.99168568849564\n",
            "Epoch  47 | Loss: 75.22906689345837\n",
            "Epoch  48 | Loss: 71.80311162769794\n",
            "Epoch  49 | Loss: 70.36309063434601\n"
          ]
        },
        {
          "output_type": "display_data",
          "data": {
            "text/plain": [
              "<Figure size 640x480 with 1 Axes>"
            ],
            "image/png": "[encoded data removed]"
          },
          "metadata": {}
        }
      ]
    },
    {
      "cell_type": "code",
      "source": [],
      "metadata": {
        "id": "C8hr5c93MSmZ"
      },
      "execution_count": null,
      "outputs": []
    }
  ]
}