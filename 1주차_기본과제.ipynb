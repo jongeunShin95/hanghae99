{
  "nbformat": 4,
  "nbformat_minor": 0,
  "metadata": {
    "colab": {
      "provenance": [],
      "gpuType": "T4",
      "include_colab_link": true
    },
    "kernelspec": {
      "name": "python3",
      "display_name": "Python 3"
    },
    "language_info": {
      "name": "python"
    },
    "accelerator": "GPU"
  },
  "cells": [
    {
      "cell_type": "markdown",
      "metadata": {
        "id": "view-in-github",
        "colab_type": "text"
      },
      "source": [
        "<a href=\"https://colab.research.google.com/github/jongeunShin95/hanghae99/blob/main/1%EC%A3%BC%EC%B0%A8_%EA%B8%B0%EB%B3%B8%EA%B3%BC%EC%A0%9C.ipynb\" target=\"_parent\"><img src=\"https://colab.research.google.com/assets/colab-badge.svg\" alt=\"Open In Colab\"/></a>"
      ]
    },
    {
      "cell_type": "code",
      "execution_count": 1,
      "metadata": {
        "id": "6lXVfXoDtoQh"
      },
      "outputs": [],
      "source": [
        "import torch\n",
        "import torchvision\n",
        "import torchvision.transforms as transforms"
      ]
    },
    {
      "cell_type": "code",
      "source": [
        "transform = transforms.ToTensor()\n",
        "\n",
        "# train\n",
        "trainset = torchvision.datasets.MNIST(\n",
        "    root='./data',\n",
        "    train=True,\n",
        "    download=True,\n",
        "    transform=transform\n",
        ")\n",
        "\n",
        "# test\n",
        "testset = torchvision.datasets.MNIST(\n",
        "    root='./data',\n",
        "    train=False,\n",
        "    download=True,\n",
        "    transform=transform,\n",
        ")"
      ],
      "metadata": {
        "id": "KAYlqPaRt6ti",
        "colab": {
          "base_uri": "https://localhost:8080/"
        },
        "outputId": "b5de6eec-6fd7-4cfd-9a40-6dda2e641ea0"
      },
      "execution_count": 2,
      "outputs": [
        {
          "output_type": "stream",
          "name": "stderr",
          "text": [
            "100%|██████████| 9.91M/9.91M [00:00<00:00, 15.9MB/s]\n",
            "100%|██████████| 28.9k/28.9k [00:00<00:00, 473kB/s]\n",
            "100%|██████████| 1.65M/1.65M [00:00<00:00, 4.38MB/s]\n",
            "100%|██████████| 4.54k/4.54k [00:00<00:00, 10.6MB/s]\n"
          ]
        }
      ]
    },
    {
      "cell_type": "code",
      "source": [
        "from torch import nn\n",
        "\n",
        "\n",
        "class Model(nn.Module):\n",
        "  def __init__(self, input_dim, n_dim):\n",
        "    super().__init__()\n",
        "\n",
        "    self.layer1 = nn.Linear(input_dim, n_dim)\n",
        "    self.layer2 = nn.Linear(n_dim, n_dim)\n",
        "    self.layer3 = nn.Linear(n_dim, 10)\n",
        "\n",
        "  def forward(self, x):\n",
        "    x = torch.flatten(x, start_dim=1)\n",
        "    x = self.layer1(x)\n",
        "    x = self.layer2(x)\n",
        "    x = self.layer3(x)\n",
        "\n",
        "    return x\n",
        "\n",
        "\n",
        "model = Model(28 * 28 * 1, 1024)"
      ],
      "metadata": {
        "id": "OLOA-ZGTuVVG"
      },
      "execution_count": 7,
      "outputs": []
    },
    {
      "cell_type": "code",
      "source": [
        "from torch.optim import SGD\n",
        "\n",
        "lr = 0.001\n",
        "model = model.to('cuda')\n",
        "\n",
        "optimizer = SGD(model.parameters(), lr=lr)"
      ],
      "metadata": {
        "id": "ypS0TcOlvBhZ"
      },
      "execution_count": 8,
      "outputs": []
    },
    {
      "cell_type": "code",
      "source": [
        "def accuracy(model, dataloader):\n",
        "  cnt = 0\n",
        "  acc = 0\n",
        "\n",
        "  for data in dataloader:\n",
        "    inputs, labels = data\n",
        "    inputs, labels = inputs.to('cuda'), labels.to('cuda')\n",
        "\n",
        "    preds = model(inputs)\n",
        "    preds = torch.argmax(preds, dim=-1)\n",
        "\n",
        "    cnt += labels.shape[0]\n",
        "    acc += (labels == preds).sum().item()\n",
        "\n",
        "  return acc / cnt"
      ],
      "metadata": {
        "id": "d6M4SpWQoML9"
      },
      "execution_count": 3,
      "outputs": []
    },
    {
      "cell_type": "code",
      "source": [
        "import matplotlib.pyplot as plt\n",
        "import numpy as np\n",
        "\n",
        "def plot_acc(train_accs, test_accs, label1='train', label2='test'):\n",
        "  x = np.arange(len(train_accs))\n",
        "\n",
        "  plt.plot(x, train_accs, label=label1)\n",
        "  plt.plot(x, test_accs, label=label2)\n",
        "  plt.legend()\n",
        "  plt.show()"
      ],
      "metadata": {
        "id": "hwYj1y0jDUSM"
      },
      "execution_count": 4,
      "outputs": []
    },
    {
      "cell_type": "code",
      "source": [
        "train_accs = []\n",
        "test_accs = []\n",
        "\n",
        "n_epochs = 100\n",
        "batch_size = 256\n",
        "\n",
        "# train\n",
        "trainloader = torch.utils.data.DataLoader(\n",
        "    trainset,\n",
        "    batch_size=batch_size,\n",
        "    shuffle=True\n",
        ")\n",
        "traindataiter = iter(trainloader)\n",
        "trainimages, trainlabels = next(traindataiter)\n",
        "\n",
        "# test\n",
        "testloader = torch.utils.data.DataLoader(\n",
        "    testset,\n",
        "    batch_size=batch_size,\n",
        "    shuffle=False\n",
        ")\n",
        "testdataiter = iter(testloader)\n",
        "testimages, testlabels = next(testdataiter)"
      ],
      "metadata": {
        "id": "YkTucDWAFGY2"
      },
      "execution_count": 12,
      "outputs": []
    },
    {
      "cell_type": "code",
      "source": [
        "for epoch in range(n_epochs):\n",
        "  total_loss = 0.\n",
        "  for data in trainloader:\n",
        "    model.zero_grad()\n",
        "    inputs, labels = data\n",
        "    inputs, labels = inputs.to('cuda'), labels.to('cuda')\n",
        "\n",
        "    preds = model(inputs)\n",
        "    loss = nn.CrossEntropyLoss()(preds, labels)\n",
        "    loss.backward()\n",
        "    optimizer.step()\n",
        "\n",
        "    total_loss += loss.item()\n",
        "\n",
        "  train_acc = accuracy(model, trainloader)\n",
        "  test_acc = accuracy(model, testloader)\n",
        "\n",
        "  train_accs.append(train_acc)\n",
        "  test_accs.append(test_acc)\n",
        "\n",
        "  print(f\"Epoch {epoch:3d} | Loss: {total_loss}\")\n",
        "\n",
        "plot_acc(train_accs, test_accs)"
      ],
      "metadata": {
        "colab": {
          "base_uri": "https://localhost:8080/",
          "height": 1000
        },
        "id": "a1CXBtXeGHF-",
        "outputId": "3fc85db3-46f7-45a2-8b8e-ff9f1618ebe8"
      },
      "execution_count": 13,
      "outputs": [
        {
          "output_type": "stream",
          "name": "stdout",
          "text": [
            "Epoch   0 | Loss: 426.05703711509705\n",
            "Epoch   1 | Loss: 399.2025810480118\n",
            "Epoch   2 | Loss: 371.865496635437\n",
            "Epoch   3 | Loss: 344.8806080818176\n",
            "Epoch   4 | Loss: 319.18263494968414\n",
            "Epoch   5 | Loss: 295.47844088077545\n",
            "Epoch   6 | Loss: 274.04122030735016\n",
            "Epoch   7 | Loss: 255.03700667619705\n",
            "Epoch   8 | Loss: 238.4379979968071\n",
            "Epoch   9 | Loss: 223.90056949853897\n",
            "Epoch  10 | Loss: 211.23467022180557\n",
            "Epoch  11 | Loss: 200.2162155508995\n",
            "Epoch  12 | Loss: 190.67357349395752\n",
            "Epoch  13 | Loss: 182.22743147611618\n",
            "Epoch  14 | Loss: 174.70519989728928\n",
            "Epoch  15 | Loss: 168.0150238275528\n",
            "Epoch  16 | Loss: 162.17182683944702\n",
            "Epoch  17 | Loss: 156.86825728416443\n",
            "Epoch  18 | Loss: 152.090187728405\n",
            "Epoch  19 | Loss: 147.83308440446854\n",
            "Epoch  20 | Loss: 143.85515904426575\n",
            "Epoch  21 | Loss: 140.3488163948059\n",
            "Epoch  22 | Loss: 137.09467887878418\n",
            "Epoch  23 | Loss: 134.0269473195076\n",
            "Epoch  24 | Loss: 131.18357542157173\n",
            "Epoch  25 | Loss: 128.67584598064423\n",
            "Epoch  26 | Loss: 126.31195184588432\n",
            "Epoch  27 | Loss: 124.09728682041168\n",
            "Epoch  28 | Loss: 122.06634831428528\n",
            "Epoch  29 | Loss: 120.21718722581863\n",
            "Epoch  30 | Loss: 118.35044351220131\n",
            "Epoch  31 | Loss: 116.56295329332352\n",
            "Epoch  32 | Loss: 115.14802426099777\n",
            "Epoch  33 | Loss: 113.45050472021103\n",
            "Epoch  34 | Loss: 112.04961150884628\n",
            "Epoch  35 | Loss: 110.7686319053173\n",
            "Epoch  36 | Loss: 109.46636348962784\n",
            "Epoch  37 | Loss: 108.26563867926598\n",
            "Epoch  38 | Loss: 107.2041971385479\n",
            "Epoch  39 | Loss: 106.14432820677757\n",
            "Epoch  40 | Loss: 105.06241622567177\n",
            "Epoch  41 | Loss: 104.0736338198185\n",
            "Epoch  42 | Loss: 103.1340582370758\n",
            "Epoch  43 | Loss: 102.26529711484909\n",
            "Epoch  44 | Loss: 101.50208368897438\n",
            "Epoch  45 | Loss: 100.59784176945686\n",
            "Epoch  46 | Loss: 99.82697215676308\n",
            "Epoch  47 | Loss: 99.07537430524826\n",
            "Epoch  48 | Loss: 98.46668139100075\n",
            "Epoch  49 | Loss: 97.68441623449326\n",
            "Epoch  50 | Loss: 97.02928772568703\n",
            "Epoch  51 | Loss: 96.42191454768181\n",
            "Epoch  52 | Loss: 95.81291717290878\n",
            "Epoch  53 | Loss: 95.28953638672829\n",
            "Epoch  54 | Loss: 94.70294696092606\n",
            "Epoch  55 | Loss: 94.18594935536385\n",
            "Epoch  56 | Loss: 93.61386707425117\n",
            "Epoch  57 | Loss: 93.21790942549706\n",
            "Epoch  58 | Loss: 92.7120923101902\n",
            "Epoch  59 | Loss: 92.19927409291267\n",
            "Epoch  60 | Loss: 91.74265709519386\n",
            "Epoch  61 | Loss: 91.33644890785217\n",
            "Epoch  62 | Loss: 90.84660217165947\n",
            "Epoch  63 | Loss: 90.49419435858727\n",
            "Epoch  64 | Loss: 90.10590061545372\n",
            "Epoch  65 | Loss: 89.76582127809525\n",
            "Epoch  66 | Loss: 89.24539034068584\n",
            "Epoch  67 | Loss: 89.0110663920641\n",
            "Epoch  68 | Loss: 88.7168752104044\n",
            "Epoch  69 | Loss: 88.24668924510479\n",
            "Epoch  70 | Loss: 87.90504482388496\n",
            "Epoch  71 | Loss: 87.55431446433067\n",
            "Epoch  72 | Loss: 87.31862534582615\n",
            "Epoch  73 | Loss: 87.03963626921177\n",
            "Epoch  74 | Loss: 86.71213282644749\n",
            "Epoch  75 | Loss: 86.38032591342926\n",
            "Epoch  76 | Loss: 86.10437721014023\n",
            "Epoch  77 | Loss: 85.80726186931133\n",
            "Epoch  78 | Loss: 85.56665067374706\n",
            "Epoch  79 | Loss: 85.33996425569057\n",
            "Epoch  80 | Loss: 85.09028655290604\n",
            "Epoch  81 | Loss: 84.8026365339756\n",
            "Epoch  82 | Loss: 84.51994474232197\n",
            "Epoch  83 | Loss: 84.22778983414173\n",
            "Epoch  84 | Loss: 84.08900699019432\n",
            "Epoch  85 | Loss: 83.89094552397728\n",
            "Epoch  86 | Loss: 83.64245349168777\n",
            "Epoch  87 | Loss: 83.31385427713394\n",
            "Epoch  88 | Loss: 83.14812904596329\n",
            "Epoch  89 | Loss: 82.90874493122101\n",
            "Epoch  90 | Loss: 82.79429365694523\n",
            "Epoch  91 | Loss: 82.64892637729645\n",
            "Epoch  92 | Loss: 82.39435823261738\n",
            "Epoch  93 | Loss: 82.08784848451614\n",
            "Epoch  94 | Loss: 82.09623403847218\n",
            "Epoch  95 | Loss: 81.73714601993561\n",
            "Epoch  96 | Loss: 81.61267580091953\n",
            "Epoch  97 | Loss: 81.45131935179234\n",
            "Epoch  98 | Loss: 81.19264441728592\n",
            "Epoch  99 | Loss: 80.92930866777897\n"
          ]
        },
        {
          "output_type": "display_data",
          "data": {
            "text/plain": [
              "<Figure size 640x480 with 1 Axes>"
            ],
            "image/png": "[encoded data removed]"
          },
          "metadata": {}
        }
      ]
    }
  ]
}